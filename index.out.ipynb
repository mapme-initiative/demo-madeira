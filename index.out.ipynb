{
 "cells": [
  {
   "cell_type": "markdown",
   "metadata": {},
   "source": [
    "# mapme.biodiversity - A Tool for Reproducible Conservation Data\n",
    "\n",
    "Analysis\n",
    "\n",
    "Darius A. Görgen [![](data:image/png;base64,iVBORw0KGgoAAAANSUhEUgAAABAAAAAQCAYAAAAf8/9hAAAAGXRFWHRTb2Z0d2FyZQBBZG9iZSBJbWFnZVJlYWR5ccllPAAAA2ZpVFh0WE1MOmNvbS5hZG9iZS54bXAAAAAAADw/eHBhY2tldCBiZWdpbj0i77u/IiBpZD0iVzVNME1wQ2VoaUh6cmVTek5UY3prYzlkIj8+IDx4OnhtcG1ldGEgeG1sbnM6eD0iYWRvYmU6bnM6bWV0YS8iIHg6eG1wdGs9IkFkb2JlIFhNUCBDb3JlIDUuMC1jMDYwIDYxLjEzNDc3NywgMjAxMC8wMi8xMi0xNzozMjowMCAgICAgICAgIj4gPHJkZjpSREYgeG1sbnM6cmRmPSJodHRwOi8vd3d3LnczLm9yZy8xOTk5LzAyLzIyLXJkZi1zeW50YXgtbnMjIj4gPHJkZjpEZXNjcmlwdGlvbiByZGY6YWJvdXQ9IiIgeG1sbnM6eG1wTU09Imh0dHA6Ly9ucy5hZG9iZS5jb20veGFwLzEuMC9tbS8iIHhtbG5zOnN0UmVmPSJodHRwOi8vbnMuYWRvYmUuY29tL3hhcC8xLjAvc1R5cGUvUmVzb3VyY2VSZWYjIiB4bWxuczp4bXA9Imh0dHA6Ly9ucy5hZG9iZS5jb20veGFwLzEuMC8iIHhtcE1NOk9yaWdpbmFsRG9jdW1lbnRJRD0ieG1wLmRpZDo1N0NEMjA4MDI1MjA2ODExOTk0QzkzNTEzRjZEQTg1NyIgeG1wTU06RG9jdW1lbnRJRD0ieG1wLmRpZDozM0NDOEJGNEZGNTcxMUUxODdBOEVCODg2RjdCQ0QwOSIgeG1wTU06SW5zdGFuY2VJRD0ieG1wLmlpZDozM0NDOEJGM0ZGNTcxMUUxODdBOEVCODg2RjdCQ0QwOSIgeG1wOkNyZWF0b3JUb29sPSJBZG9iZSBQaG90b3Nob3AgQ1M1IE1hY2ludG9zaCI+IDx4bXBNTTpEZXJpdmVkRnJvbSBzdFJlZjppbnN0YW5jZUlEPSJ4bXAuaWlkOkZDN0YxMTc0MDcyMDY4MTE5NUZFRDc5MUM2MUUwNEREIiBzdFJlZjpkb2N1bWVudElEPSJ4bXAuZGlkOjU3Q0QyMDgwMjUyMDY4MTE5OTRDOTM1MTNGNkRBODU3Ii8+IDwvcmRmOkRlc2NyaXB0aW9uPiA8L3JkZjpSREY+IDwveDp4bXBtZXRhPiA8P3hwYWNrZXQgZW5kPSJyIj8+84NovQAAAR1JREFUeNpiZEADy85ZJgCpeCB2QJM6AMQLo4yOL0AWZETSqACk1gOxAQN+cAGIA4EGPQBxmJA0nwdpjjQ8xqArmczw5tMHXAaALDgP1QMxAGqzAAPxQACqh4ER6uf5MBlkm0X4EGayMfMw/Pr7Bd2gRBZogMFBrv01hisv5jLsv9nLAPIOMnjy8RDDyYctyAbFM2EJbRQw+aAWw/LzVgx7b+cwCHKqMhjJFCBLOzAR6+lXX84xnHjYyqAo5IUizkRCwIENQQckGSDGY4TVgAPEaraQr2a4/24bSuoExcJCfAEJihXkWDj3ZAKy9EJGaEo8T0QSxkjSwORsCAuDQCD+QILmD1A9kECEZgxDaEZhICIzGcIyEyOl2RkgwAAhkmC+eAm0TAAAAABJRU5ErkJggg==)](https://orcid.org/0009-0008-5503-7704) (MAPME Initiative)  \n",
    "December 12, 2024\n",
    "\n",
    "## Introduction\n",
    "\n",
    "In this tutorial we will conduct a practical analysis of geospatial data during which you will get to know the R package `mapme.biodiversity`. This package streamlines the access to and analysis of geospatial data sets that are relevant to conservation efforts.\n",
    "\n",
    "As a practical example, we are going to analyze flooding and potentially associated deforestation as a consequence of dam building for electricity generation. Our area of study is a part of the river Madeira, a tributary to the Amazon, located in Rondônia, Brazil. Here, between 2008 and 2016 two dams, the Santo Antônio and the Jirau dam, were build in very close proximity to each other. This caused quite the stir, as an [report](https://www.maapprogram.org/madeira/) of the Monitoring of the Andean Amazon Project (MAAP) estimated some 36,000 hectares of primary rainforest being permanently lost due to flooding ([Finer and Olexy 2015](#ref-finer2015)).\n",
    "\n",
    "> **Terminology of `mapme.biodiversity`**\n",
    ">\n",
    "> We use a certain [Terminology](https://mapme-initiative.github.io/mapme.biodiversity/dev/articles/terminology.html) to refer unambiguously to different parts of our [workflows](https://mapme-initiative.github.io/mapme.biodiversity/dev/articles/workflow.html). Please follow the links to familiarize yourself with terms such as portfolio, asset, resource and indicator.\n",
    "\n",
    "## Installation\n",
    "\n",
    "`mapme.biodiversity` is published on CRAN so it can conveniently be installed via:"
   ],
   "id": "ab197cfb-de74-447d-83a5-6c4927675cab"
  },
  {
   "cell_type": "code",
   "execution_count": null,
   "metadata": {},
   "outputs": [],
   "source": [
    "install.packages(\"mapme.biodiversity\", dependencies = TRUE)"
   ],
   "id": "92f30942-6521-449b-a0c1-a3448728ef97"
  },
  {
   "cell_type": "markdown",
   "metadata": {},
   "source": [
    "Since `mapme.biodiversity` fetches data from sources on the internet, it is quite likely that from time to time the location of a resource might change. While we cannot immediately release such changes to CRAN, the development version on GitHub might already incorporate such adoptions. So sometimes, you may wish to install the [development version](https://github.com/mapme-initiative/mapme.biodiversity). You can install it with the [`remotes`](https://cran.r-project.org/package=remotes) package:"
   ],
   "id": "8d8042c0-ec2b-4ea3-8f2e-b1ecff43325a"
  },
  {
   "cell_type": "code",
   "execution_count": null,
   "metadata": {},
   "outputs": [],
   "source": [
    "remotes::install_github(\"mapme-initiative/mapme.biodiversity\", dependencies = TRUE)"
   ],
   "id": "34162ea3-10cc-44bd-b193-c30488f2f546"
  },
  {
   "cell_type": "markdown",
   "metadata": {},
   "source": [
    "## Getting started\n",
    "\n",
    "First, we will load a number of required libraries for this tutorial. Among [`mapme.biodiversity`](https://CRAN.R-project.org/package=mapme.biodiversity), this entails some packages to handle spatial data such as [`sf`](https://CRAN.R-project.org/package=sf), [`terra`](https://CRAN.R-project.org/package=terra), and [`rnaturalearth`](https://CRAN.R-project.org/package=exactextractr) as well as some data wrangling packages ([`dplyr`](https://CRAN.R-project.org/package=dplyr), [`tidyr`](https://CRAN.R-project.org/package=tidyr), and [`ggplot2`](https://CRAN.R-project.org/package=ggplot2))."
   ],
   "id": "29d624c7-0fc2-4d24-8ae5-d37dbf288a74"
  },
  {
   "cell_type": "code",
   "execution_count": null,
   "metadata": {},
   "outputs": [],
   "source": [
    "# spatial libraries\n",
    "library(sf)\n",
    "#> Linking to GEOS 3.13.0, GDAL 3.9.2, PROJ 9.5.0; sf_use_s2() is TRUE\n",
    "library(terra)\n",
    "#> terra 1.7.83\n",
    "library(rstac)\n",
    "library(leaflet)\n",
    "library(rnaturalearth)\n",
    "library(exactextractr)\n",
    "library(landscapemetrics)\n",
    "library(mapme.biodiversity)\n",
    "\n",
    "# data wrangling & plotting\n",
    "library(dplyr, warn.conflicts = FALSE)\n",
    "library(tidyr, warn.conflicts = FALSE)\n",
    "library(ggplot2)\n",
    "\n",
    "# progress reports and parallel computations\n",
    "library(progressr)\n",
    "library(future)\n",
    "# increase timeout for downloads (e.g. worldpop)\n",
    "options(timeout = 600)\n",
    "# increases allowed size of future exports\n",
    "options(future.globals.maxSize = 1.0 * 1e9) # ~0.8 Gb\n",
    "# create input/output directories\n",
    "dir.create(\"input\", showWarnings = FALSE)\n",
    "dir.create(\"output\", showWarnings = FALSE)"
   ],
   "id": "e1d13c8a-60fb-44ef-8616-3d3cc98db3f1"
  },
  {
   "cell_type": "markdown",
   "metadata": {},
   "source": [
    "> **GDAL version**\n",
    ">\n",
    "> `sf` prints informative messages about the versions of system libraries it was build against. For `mapme.biodiversity` to handle vector data sources correctly, we expect `sf` to be built against [`GDAL>=3.7.0`](https://gdal.org/en/latest/download_past.html). Since about November 2024 this requirement should be satisfied for pre-built `sf` from CRAN. Otherwise the `sf` [`README`](https://github.com/r-spatial/sf?tab=readme-ov-file#installing) contains OS-specific installation instructions.\n",
    "\n",
    "## Preparing the Area of Interest\n",
    "\n",
    "To obtain our area of interest, we first need to define the locations of the two dams in question and retrieve data on the Madeira river course. After a quick internet search, we obtain the following coordinates for the Santo Antônio and Jirau dams, respectively. Besides that, we found some indications about the potential timing when flooding started during the construction of the dams. For Santo Antônio, flooding seems to have started in 2011, two years earlier than for the Jirau dam."
   ],
   "id": "eff344c0-c167-47df-acc2-762e3681dc2b"
  },
  {
   "cell_type": "code",
   "execution_count": null,
   "metadata": {},
   "outputs": [],
   "source": [
    "dams <- st_as_sf(\n",
    "    data.frame(\n",
    "        name = c(\"Santo Antonio\", \"Jirau\"),\n",
    "        start_flooding = c(2011, 2013),\n",
    "        longitude = c(-63.9506, -64.6478),\n",
    "        latitude = c(-8.8016, -9.2665)\n",
    "    ),\n",
    "    coords = c(\"longitude\", \"latitude\"),\n",
    "    crs = st_crs(\"OGC:CRS84\")\n",
    ")"
   ],
   "id": "cd28409b-8211-485e-8b5b-587e6e8872de"
  },
  {
   "cell_type": "markdown",
   "metadata": {},
   "source": [
    "Besides the dams’ location, we require spatial information on the course of Madeira river. Though not being the most precise data set, [Natural Earth](https://www.naturalearthdata.com/) provides geo-information on a number of environmental and anthropogenic aspects of interest on a global scale. Let’s download a river data set at the most accurate available scale and subset it to the Madeira river."
   ],
   "id": "1a50d0c5-2afe-4852-a7cb-5b5871245800"
  },
  {
   "cell_type": "code",
   "execution_count": null,
   "metadata": {},
   "outputs": [],
   "source": [
    "dsn <- \"./input/madeira.gpkg\"\n",
    "if (!file.exists(dsn)) {\n",
    "    rivers <- ne_download(\n",
    "        scale = 10,\n",
    "        type = \"rivers_lake_centerlines\",\n",
    "        category = \"physical\",\n",
    "        returnclass = \"sf\"   \n",
    "    )\n",
    "    madeira <- rivers[which(rivers$name == \"Madeira\"), \"name_en\"]\n",
    "    st_write(madeira, dsn = dsn)\n",
    "} else {\n",
    "    madeira <- st_read(dsn, quiet = TRUE)\n",
    "}"
   ],
   "id": "bc1665c6-dc5f-4d5b-80ac-b08eca9cf191"
  },
  {
   "cell_type": "markdown",
   "metadata": {},
   "source": [
    "Now that we have our raw inputs, we will have to design our specific AOIs. The Madeira river flows from the Andes toward the Amazon basin, that is from West to East. Flooding after dam construction evidently occurs upstream of  \n",
    "a dam’s location, which is to the West in the case of the Madeira river. To analyze forest cover loss potentially associated with flooding we might decide to use a buffer zone around the river banks for a similar stretch of land upstream of both dams. The function we define below, will first crop the river’s line geometry to a specified buffer zone around a dam. We then have to decide which direction from the point’s location to keep, which should be West in the present case. We thus construct a directed bounding box and return the resulting river course after a final crop."
   ],
   "id": "377911af-e1b2-471e-8a5f-ea248b2c2d2f"
  },
  {
   "cell_type": "code",
   "execution_count": null,
   "metadata": {},
   "outputs": [],
   "source": [
    "crop_upstream <- function(\n",
    "    point,\n",
    "    river,\n",
    "    dist ,\n",
    "    dir) {\n",
    "    river_crop <- st_intersection(river, st_buffer(point, dist = dist))\n",
    "    y_coords <- st_bbox(river_crop)[c(2, 4)]\n",
    "\n",
    "    if (dir == \"W\") {\n",
    "        x_coords <- c(st_bbox(river_crop)[1], st_coordinates(point)[, 1])\n",
    "    } else {\n",
    "        x_coords <- c(st_coordinates(point)[, 1], st_bbox(river_crop)[3])\n",
    "    }\n",
    "\n",
    "    bbox <- c(x_coords, y_coords)\n",
    "    names(bbox) <- c(\"xmin\", \"xmax\", \"ymin\", \"ymax\")\n",
    "    bbox <- st_bbox(bbox, crs = st_crs(point))\n",
    "    st_crop(river_crop, bbox)\n",
    "}"
   ],
   "id": "2c24c628-4d45-4bb1-83a3-7a11e4afed53"
  },
  {
   "cell_type": "markdown",
   "metadata": {},
   "source": [
    "Let’s apply this function to retrieve the upstream portion of the Madeira river for each of the two dams. We also will apply a 5 km buffer around these lines, which will represent our AOIs for analyzing flooding and forest cover loss. Additionally, we will buffer the point locations by 50 km, as a second set of AOI definition to estimate the number of directly affected people by the dam construction."
   ],
   "id": "a07b5dbd-0ade-4e2e-a6bf-b0c5a03a10e8"
  },
  {
   "cell_type": "code",
   "execution_count": null,
   "metadata": {},
   "outputs": [],
   "source": [
    "size <- units::as_units(50, \"km\")\n",
    "dams_buffer <- st_buffer(dams, dist = size)\n",
    "geoms <- lapply(1:2, \\(i) crop_upstream(st_geometry(dams[i,]), st_geometry(madeira), dist = size, dir = \"W\")) \n",
    "geoms <- do.call(c, geoms)\n",
    "upstream <- dams\n",
    "st_geometry(upstream) <- geoms\n",
    "st_length(upstream)\n",
    "#> Units: [m]\n",
    "#> [1] 59756.14 61117.12\n",
    "upstream_buffer <- st_buffer(upstream, dist = units::as_units(5, \"km\"))\n",
    "st_area(dams_buffer)\n",
    "#> Units: [m^2]\n",
    "#> [1] 7946363927 7949096690\n",
    "st_area(upstream_buffer)\n",
    "#> Units: [m^2]\n",
    "#> [1] 696792723 709046753"
   ],
   "id": "f98329f4-5701-4e4f-a8c2-5d3b54782372"
  },
  {
   "cell_type": "markdown",
   "metadata": {},
   "source": [
    "The interactive visualization in <a href=\"#fig-leaflet-map\" class=\"quarto-xref\">Figure 1</a> shows our AOI definition worked as expected: we were able to retrieve the upstream river courses of roughly equal length and obtain respective buffer zones of roughly equal area."
   ],
   "id": "7d125c11-9876-4a05-99f4-eb1eb66eeb73"
  },
  {
   "cell_type": "code",
   "execution_count": null,
   "metadata": {},
   "outputs": [],
   "source": [
    "leaflet() |>\n",
    "    addPolygons(\n",
    "        data = dams_buffer,\n",
    "        color = \"#f18e26\",\n",
    "        fill = \"#f18e26\",\n",
    "        fillOpacity = 0.2,\n",
    "        popup = ~name,\n",
    "        group = \"Dam point locations (buffered)\"\n",
    "    ) |>\n",
    "    addPolygons(\n",
    "        data = upstream_buffer,\n",
    "        color = \"#1d7990\",\n",
    "        fill = \"#1d7990\",\n",
    "        fillOpacity = 0.2,\n",
    "        popup = ~name,\n",
    "        group = \"Upstream river course (buffered)\"\n",
    "    ) |>\n",
    "    addCircleMarkers(\n",
    "        data = dams,\n",
    "        color = \"#f18e26\",\n",
    "        fill = \"#f18e26\",\n",
    "        fillOpacity = 1,\n",
    "        popup = ~name,\n",
    "        group = \"Dam point locations\"\n",
    "    ) |>\n",
    "    addPolylines(\n",
    "        data = upstream,\n",
    "        color = \"#032733\",\n",
    "        popup = ~name,\n",
    "        group = \"Upstream river course\"\n",
    "    ) |>\n",
    "    addProviderTiles(providers$OpenStreetMap, group = \"OpenStreetMap\") |>\n",
    "    addProviderTiles(providers$Esri.WorldImagery, group = \"Satellite\") |>\n",
    "    addLayersControl(\n",
    "        baseGroups = c(\"OpenStreetMap\", \"Satellite\"),\n",
    "        overlayGroups = c(\"Dam point locations\", \"Upstream river course\", \"Dam point locations (buffered)\", \"Upstream river course (buffered)\"),\n",
    "        position = \"bottomright\",\n",
    "        options = layersControlOptions(collapsed = FALSE)\n",
    "    ) "
   ],
   "id": "cell-fig-leaflet-map"
  },
  {
   "cell_type": "markdown",
   "metadata": {},
   "source": [
    "Now that we have our AOIs available, we can turn towards fetching the required geospatial data. `mapme.biodiversity` works by creating a portfolio which consists of one or several assets. Spatial data will be downloaded only for the extent of the portfolio (where possible and sensible). For this, we create a portfolio consisting of our upstream buffers as well as the wider buffers around the dam locations:"
   ],
   "id": "20200ecc-c75c-4132-8315-2aca02cd1ff6"
  },
  {
   "cell_type": "code",
   "execution_count": null,
   "metadata": {},
   "outputs": [],
   "source": [
    "portfolio <- do.call(rbind, list(dams_buffer, upstream_buffer))\n",
    "portfolio$type <- c(rep(\"buffer\", 2), rep(\"upstream\", 2))\n",
    "portfolio$assetid <- 1:nrow(portfolio)\n",
    "portfolio\n",
    "#> Simple feature collection with 4 features and 4 fields\n",
    "#> Geometry type: POLYGON\n",
    "#> Dimension:     XY\n",
    "#> Bounding box:  xmin: -65.10765 ymin: -9.72112 xmax: -63.4921 ymax: -8.348096\n",
    "#> Geodetic CRS:  WGS 84 (CRS84)\n",
    "#>            name start_flooding                       geometry     type assetid\n",
    "#> 1 Santo Antonio           2011 POLYGON ((-63.58061 -8.5388...   buffer       1\n",
    "#> 2         Jirau           2013 POLYGON ((-64.90595 -9.6371...   buffer       2\n",
    "#> 3 Santo Antonio           2011 POLYGON ((-64.31941 -9.1304... upstream       3\n",
    "#> 4         Jirau           2013 POLYGON ((-64.9534 -9.64327... upstream       4"
   ],
   "id": "e1063745-1a77-4a4c-b1f3-1350afe9fcbd"
  },
  {
   "cell_type": "markdown",
   "metadata": {},
   "source": [
    "## Setting up mapme.biodiversity\n",
    "\n",
    "`mapme.biodiversity` comes with a high-level function to configure options for the running R session. Let’s inspect the default output of calling this configuration function:"
   ],
   "id": "046d7673-2c4a-45ea-a80d-09387783d6ba"
  },
  {
   "cell_type": "code",
   "execution_count": null,
   "metadata": {},
   "outputs": [],
   "source": [
    "mapme_options()\n",
    "#> $outdir\n",
    "#> [1] \"/tmp/RtmpfwyKrg/file37ff61c33d089\"\n",
    "#> \n",
    "#> $chunk_size\n",
    "#> [1] 1e+05\n",
    "#> \n",
    "#> $retries\n",
    "#> [1] 3\n",
    "#> \n",
    "#> $verbose\n",
    "#> [1] TRUE\n",
    "#> \n",
    "#> $log_dir\n",
    "#> NULL"
   ],
   "id": "277f2df9-840a-4bf1-9fc5-ee346ed6bfb2"
  },
  {
   "cell_type": "markdown",
   "metadata": {},
   "source": [
    "The two important options for this tutorial are `outdir` and `chunksize`. The `outdir` option is used to specify where resource data will be written to. When working on your local laptop, it is a good idea to specify a persistent folder to omit re-downloading the same resources every time you run your script.\n",
    "\n",
    "> **Using object storages in the cloud**\n",
    ">\n",
    "> When working in an cloud environment or together with multiple collaborators on the same project, it might be beneficial to store resources in an object storage in the cloud. Any cloud storage supported by GDAL via its [virtual file system drivers](https://gdal.org/en/latest/user/virtual_file_systems.html#network-based-file-systems) is supported. This entails AWS S3, Azure Blob Storage, and Google Cloud Storage (GCS), among others. Provided that the required authentication environment variables are correctly set, the following would point towards a hypothetical S3 storage called `mapme-data`:\n",
    ">\n",
    "> ``` r\n",
    "> mapme_options(outdir = \"/vsis3/mapme-data\")\n",
    "> ```\n",
    "\n",
    "The `chunk_size` option is an important parameter controlling the area threshold after which individual assets will be split up and processed in chunks. It is specified in hectares `ha`.\n",
    "\n",
    "<a href=\"#fig-chunks\" class=\"quarto-xref\">Figure 2</a> shows the effect of applying a `chunk_size` of a quarter of the largest asset in the portfolio, resulting in a rough split of the larger buffers into 3x3 elements and no chunking applied for the upstream buffers."
   ],
   "id": "d8ae9a82-532e-469e-bafe-041e29611ba5"
  },
  {
   "cell_type": "code",
   "execution_count": null,
   "metadata": {},
   "outputs": [
    {
     "output_type": "display_data",
     "metadata": {},
     "data": {}
    }
   ],
   "source": [
    "area <- as.numeric(max(st_area(portfolio))) / 10000 # to ha\n",
    "chunks <- mapme.biodiversity:::.chunk(portfolio, chunk_size = area / 4)\n",
    "plot(chunks[\"assetid\"])"
   ],
   "id": "cell-fig-chunks"
  },
  {
   "cell_type": "markdown",
   "metadata": {},
   "source": [
    "We can put these two options together and apply them for the current R session by calling `mapme_options()` with our desired values. Check out the help page of [`mapme_options()`](https://mapme-initiative.github.io/mapme.biodiversity/dev/reference/mapme.html) to learn more about the other parameters."
   ],
   "id": "2bb1010a-44ea-490f-865f-b193f60a24f3"
  },
  {
   "cell_type": "code",
   "execution_count": null,
   "metadata": {},
   "outputs": [],
   "source": [
    "mapme_options(\n",
    "    outdir = \"./input\",\n",
    "    chunk_size = as.numeric(area / 4)\n",
    ")\n",
    "mapme_options()\n",
    "#> $outdir\n",
    "#> [1] \"./input\"\n",
    "#> \n",
    "#> $chunk_size\n",
    "#> [1] 198727.4\n",
    "#> \n",
    "#> $retries\n",
    "#> [1] 3\n",
    "#> \n",
    "#> $verbose\n",
    "#> [1] TRUE\n",
    "#> \n",
    "#> $log_dir\n",
    "#> NULL"
   ],
   "id": "a422312b-8d02-4618-8c2d-fbf5c597bc19"
  },
  {
   "cell_type": "markdown",
   "metadata": {},
   "source": [
    "## Fetching resources\n",
    "\n",
    "We now make a number of resources available locally because we are aiming at calculating indicators based on those resources for the assets in our portfolio. You can explore all supported resources/indicators e.g. in the [online documentation](https://mapme-initiative.github.io/mapme.biodiversity/reference/index.html#resources).\n",
    "\n",
    "> **Distinction between resources and indicators**\n",
    ">\n",
    "> A resource is a supported spatial dataset that can be made available for the extent of a portfolio via `get_resources()`. Resources can be of type vector or raster.\n",
    ">\n",
    "> An indicator is a function producing a tabular output for each asset in a portfolio via `calc_indicators()`. Each indicator requires one ore more resources to be available.\n",
    "\n",
    "The code chunk below will download the resources into their respective sub-directories in `./input`. We will fetch the [transition layer](https://mapme-initiative.github.io/mapme.biodiversity/dev/reference/global_surface_water_transitions.html) from Global Surface Water (GSW) which indicates transition categories for every pixel between 1984-2021. Since we have more precise information about the timing of the dam building, we will also make available the raw [GSW timeseries](https://mapme-initiative.github.io/mapme.biodiversity/dev/reference/gsw_time_series_resource.html) which differentiates between surface water classes on a yearly basis. Since ultimately we are interested in learning about forest cover loss associated with flooding, we will also fetch data from Global Forest Watch on the [treecover density](https://mapme-initiative.github.io/mapme.biodiversity/dev/reference/gfw_treecover.html) in 2000 and the layer indicating the [year of forest loss detection](https://mapme-initiative.github.io/mapme.biodiversity/dev/reference/gfw_lossyear.html). Finally, we also fetch data from [WorldPop](https://mapme-initiative.github.io/mapme.biodiversity/dev/reference/worldpop.html) for a crude estimate of number of affected people in the spatial vicinity of the two dams."
   ],
   "id": "16aae89a-1c12-423b-a8f4-02d4ccdedbcd"
  },
  {
   "cell_type": "code",
   "execution_count": null,
   "metadata": {},
   "outputs": [],
   "source": [
    "plan(multicore, workers = 4) # uses 4 workers for parallel processing\n",
    "# plan(multisession, workers = 4) # use this if working in RStudio\n",
    "with_progress({ # enables progress bar\n",
    "    get_resources(\n",
    "        portfolio,\n",
    "        get_global_surface_water_transitions(version = \"v1_4_2021\"),\n",
    "        get_gsw_time_series(years = c(2000:2019), version = \"VER5-0\"),\n",
    "        get_gfw_treecover(version = \"GFC-2023-v1.11\"),\n",
    "        get_gfw_lossyear(version = \"GFC-2023-v1.11\"),\n",
    "        get_worldpop(years = 2019)\n",
    "    )\n",
    "})\n",
    "plan(sequential)"
   ],
   "id": "793f9a09-3e97-4a17-ab36-e80313333987"
  },
  {
   "cell_type": "markdown",
   "metadata": {},
   "source": [
    "> **Parallel processing and progress report**\n",
    ">\n",
    "> `mapme.biodiversity` follows the [future paradigm](https://future.futureverse.org/) to parallel processing. That is that users are responsible to specify a strategy of how to resolve futures via [`plan()`](https://future.futureverse.org/reference/plan.html). The same applies to progress reports via [`progressr`](https://cran.r-project.org/web/packages/progressr/vignettes/progressr-intro.html) which requires users to enable progress reports.\n",
    "\n",
    "We can inspect the resources we fetched in the previous step by preparing them for single assets. `prep_resources()` will read all fetched resources for the spatial extent of the asset that we provide to it. Note, that it will fail if you provide more than one asset!"
   ],
   "id": "b8623395-c197-4c60-896a-c6f54812e8c6"
  },
  {
   "cell_type": "code",
   "execution_count": null,
   "metadata": {},
   "outputs": [],
   "source": [
    "aoi <- portfolio[4, ]\n",
    "resources <- prep_resources(aoi)"
   ],
   "id": "c7af1ef7-7258-43c5-93e6-5c95173c1d83"
  },
  {
   "cell_type": "code",
   "execution_count": null,
   "metadata": {},
   "outputs": [],
   "source": [
    "resources\n",
    "#> $global_surface_water_transitions\n",
    "#> class       : SpatRaster \n",
    "#> dimensions  : 1708, 1649, 1  (nrow, ncol, nlyr)\n",
    "#> resolution  : 0.00025, 0.00025  (x, y)\n",
    "#> extent      : -65.01275, -64.6005, -9.64525, -9.21825  (xmin, xmax, ymin, ymax)\n",
    "#> coord. ref. : lon/lat WGS 84 (EPSG:4326) \n",
    "#> source(s)   : memory\n",
    "#> color table : 1 \n",
    "#> varname     : file37ff682b655c \n",
    "#> name        : transitions_70W_0Nv1_4_2021 \n",
    "#> min value   :                           0 \n",
    "#> max value   :                          10 \n",
    "#> \n",
    "#> $gsw_time_series\n",
    "#> class       : SpatRaster \n",
    "#> dimensions  : 1708, 1649, 20  (nrow, ncol, nlyr)\n",
    "#> resolution  : 0.00025, 0.00025  (x, y)\n",
    "#> extent      : -65.01275, -64.6005, -9.64525, -9.21825  (xmin, xmax, ymin, ymax)\n",
    "#> coord. ref. : lon/lat WGS 84 (EPSG:4326) \n",
    "#> source(s)   : memory\n",
    "#> names       : VER5-~40000, VER5-~40000, VER5-~40000, VER5-~40000, VER5-~40000, VER5-~40000, ... \n",
    "#> min values  :           0,           0,           0,           0,           0,           0, ... \n",
    "#> max values  :           3,           3,           3,           3,           3,           3, ... \n",
    "#> \n",
    "#> $gfw_treecover\n",
    "#> class       : SpatRaster \n",
    "#> dimensions  : 1708, 1649, 1  (nrow, ncol, nlyr)\n",
    "#> resolution  : 0.00025, 0.00025  (x, y)\n",
    "#> extent      : -65.01275, -64.6005, -9.64525, -9.21825  (xmin, xmax, ymin, ymax)\n",
    "#> coord. ref. : lon/lat WGS 84 (EPSG:4326) \n",
    "#> source(s)   : memory\n",
    "#> varname     : file37ff633272ded \n",
    "#> name        : Hansen_GFC-2023-v1.11_treecover2000_00N_070W \n",
    "#> min value   :                                            0 \n",
    "#> max value   :                                          100 \n",
    "#> \n",
    "#> $gfw_lossyear\n",
    "#> class       : SpatRaster \n",
    "#> dimensions  : 1708, 1649, 1  (nrow, ncol, nlyr)\n",
    "#> resolution  : 0.00025, 0.00025  (x, y)\n",
    "#> extent      : -65.01275, -64.6005, -9.64525, -9.21825  (xmin, xmax, ymin, ymax)\n",
    "#> coord. ref. : lon/lat WGS 84 (EPSG:4326) \n",
    "#> source(s)   : memory\n",
    "#> varname     : file37ff6b2ae9f5 \n",
    "#> name        : Hansen_GFC-2023-v1.11_lossyear_00N_070W \n",
    "#> min value   :                                       0 \n",
    "#> max value   :                                      23 \n",
    "#> \n",
    "#> $worldpop\n",
    "#> class       : SpatRaster \n",
    "#> dimensions  : 52, 50, 1  (nrow, ncol, nlyr)\n",
    "#> resolution  : 0.008333333, 0.008333333  (x, y)\n",
    "#> extent      : -65.01667, -64.6, -9.65, -9.216667  (xmin, xmax, ymin, ymax)\n",
    "#> coord. ref. : lon/lat WGS 84 (EPSG:4326) \n",
    "#> source(s)   : memory\n",
    "#> varname     : file37ff678616280 \n",
    "#> name        : ppp_2019_1km_Aggregated \n",
    "#> min value   :                  0.0000 \n",
    "#> max value   :                160.5456"
   ],
   "id": "bab3cb00-24db-4945-81fd-97ba44326942"
  },
  {
   "cell_type": "markdown",
   "metadata": {},
   "source": [
    "In this case, all resources represent raster resources. They are read into R as `SpatRaster` objects from `terra`. Vector resources would be read as `sf` objects. The data itself is organized in directories within the `outdir` directory, which can be shared between projects because `get_resources()` will only just index those resources that match the current portfolio."
   ],
   "id": "86f1e83e-be64-44eb-ae33-5d019cb00063"
  },
  {
   "cell_type": "code",
   "execution_count": null,
   "metadata": {},
   "outputs": [],
   "source": [
    "fs::dir_tree(\"./input\")\n",
    "#> ./input\n",
    "#> ├── aoi.gpkg\n",
    "#> ├── gfw_lossyear\n",
    "#> │   └── Hansen_GFC-2023-v1.11_lossyear_00N_070W.tif\n",
    "#> ├── gfw_treecover\n",
    "#> │   └── Hansen_GFC-2023-v1.11_treecover2000_00N_070W.tif\n",
    "#> ├── global_surface_water_transitions\n",
    "#> │   └── transitions_70W_0Nv1_4_2021.tif\n",
    "#> ├── gsw_time_series\n",
    "#> │   ├── VER5-0_yearlyClassification2000-0000320000-0000440000.tif\n",
    "#> │   ├── VER5-0_yearlyClassification2001-0000320000-0000440000.tif\n",
    "#> │   ├── VER5-0_yearlyClassification2002-0000320000-0000440000.tif\n",
    "#> │   ├── VER5-0_yearlyClassification2003-0000320000-0000440000.tif\n",
    "#> │   ├── VER5-0_yearlyClassification2004-0000320000-0000440000.tif\n",
    "#> │   ├── VER5-0_yearlyClassification2005-0000320000-0000440000.tif\n",
    "#> │   ├── VER5-0_yearlyClassification2006-0000320000-0000440000.tif\n",
    "#> │   ├── VER5-0_yearlyClassification2007-0000320000-0000440000.tif\n",
    "#> │   ├── VER5-0_yearlyClassification2008-0000320000-0000440000.tif\n",
    "#> │   ├── VER5-0_yearlyClassification2009-0000320000-0000440000.tif\n",
    "#> │   ├── VER5-0_yearlyClassification2010-0000320000-0000440000.tif\n",
    "#> │   ├── VER5-0_yearlyClassification2011-0000320000-0000440000.tif\n",
    "#> │   ├── VER5-0_yearlyClassification2012-0000320000-0000440000.tif\n",
    "#> │   ├── VER5-0_yearlyClassification2013-0000320000-0000440000.tif\n",
    "#> │   ├── VER5-0_yearlyClassification2014-0000320000-0000440000.tif\n",
    "#> │   ├── VER5-0_yearlyClassification2015-0000320000-0000440000.tif\n",
    "#> │   ├── VER5-0_yearlyClassification2016-0000320000-0000440000.tif\n",
    "#> │   ├── VER5-0_yearlyClassification2017-0000320000-0000440000.tif\n",
    "#> │   ├── VER5-0_yearlyClassification2018-0000320000-0000440000.tif\n",
    "#> │   └── VER5-0_yearlyClassification2019-0000320000-0000440000.tif\n",
    "#> ├── madeira.gpkg\n",
    "#> ├── mapme-probe.tif\n",
    "#> └── worldpop\n",
    "#>     └── ppp_2019_1km_Aggregated.tif"
   ],
   "id": "a51beecc-2420-4db5-b9d2-399bc6edfba5"
  },
  {
   "cell_type": "markdown",
   "metadata": {},
   "source": [
    "Below, we will briefly discuss the different available resources by visualizing them spatially for the river course upstream of the Jiaru dam and discussing the different indications concerning flooding and associated tree cover loss.\n",
    "\n",
    "### GSW Transition layer\n",
    "\n",
    "<a href=\"#fig-gsw-transition\" class=\"quarto-xref\">Figure 3</a> displays the transition layer of GSW which contains information on change of surface water classes between the first and last years of the observation period between 1984 - 2021. In the case of the river course upstream of the Jiaru dam, we can see that the transition layer is dominated by an increase in surfaces classified as new seasonal or new permanent water cover. Other classes appear less frequently, except maybe the permanent coverage of the main river course as well as lost permanent and seasonal surfaces due to changes of where the river is flowing.\n",
    "\n",
    "We might expect that some proportion of the new permanent/seasonal classes might be associated with the construction of the Jiaru dam, but from the transition layer alone we do not obtain more specific information about the timing of the changes within the observation period. For this, we can visualize GSW yearly classification layers, which form the basis of the transition layer."
   ],
   "id": "87db3f85-881d-47d7-80c7-58037a6445ba"
  },
  {
   "cell_type": "code",
   "execution_count": null,
   "metadata": {},
   "outputs": [
    {
     "output_type": "display_data",
     "metadata": {},
     "data": {}
    }
   ],
   "source": [
    "p_aoi <- function(x) lines(aoi, lty = 2, lwd = 3, col = \"red\")\n",
    "\n",
    "categories <- data.frame(\n",
    "    value = c(0:10, 255),\n",
    "    levels = c(\"not water\", \"permanent\", \"new permanent\", \"lost permanent\", \"seasonal\", \"new seasonal\", \"lost seasonal\", \"seasonal to permanent\", \"permanent to seasonal\", \"ephemeral permanent\", \"ephemeral seasonal\", \"no data\"),\n",
    "    colors = c(\"#FFFFFF\", \"#0000FF\", \"#22B14C\", \"#D1102D\", \"#99D9EA\", \"#B5E61D\", \"#E6A1AA\", \"#FF7F27\", \"#FFC90E\", \"#7F7F7F\", \"#C3C3C3\", \"#CCCCCC\")\n",
    ")\n",
    "\n",
    "transitions <- resources$global_surface_water_transitions\n",
    "coltab(transitions) <- NULL\n",
    "levels(transitions) <- categories[ ,1:2] \n",
    "plot(transitions, col = categories[ ,3], fun = p_aoi, legend = \"bottomright\")"
   ],
   "id": "cell-fig-gsw-transition"
  },
  {
   "cell_type": "markdown",
   "metadata": {},
   "source": [
    "### GSW time series\n",
    "\n",
    "<a href=\"#fig-gsw-timeseries-2007\" class=\"quarto-xref\">Figure 4</a> indicates the GSW classification for the year 2007 differentiating between surface covered by water (seasonal and permanent) and water free surfaces (no observations and no water). We can see that surfaces seasonally covered by water strictly follow the river course and cover only a very small fraction while the permanent water coverage following the main river course dominates the picture."
   ],
   "id": "39f228c5-0657-49ae-9f05-0fa1d7c464d0"
  },
  {
   "cell_type": "code",
   "execution_count": null,
   "metadata": {},
   "outputs": [
    {
     "output_type": "display_data",
     "metadata": {},
     "data": {}
    }
   ],
   "source": [
    "levels <- c(\"no observation\", \"not water\", \"seasonal water\", \"permanent water\")\n",
    "colors <- c(\"#CCCCCC\", \"#7F7F7F\", \"#99D9EA\", \"#0000FF\")\n",
    "plot(resources$gsw_time_series[[8]], col = colors, type = \"classes\", levels = levels, fun = p_aoi, legend = \"bottomright\")"
   ],
   "id": "cell-fig-gsw-timeseries-2007"
  },
  {
   "cell_type": "markdown",
   "metadata": {},
   "source": [
    "<a href=\"#fig-gsw-timeseries-2017\" class=\"quarto-xref\">Figure 5</a> displays the GSW classification layer for the year 2017. We see a substantial increase of surfaces seasonally covered by water compared to the classification of 2007. Also, especially in the North close to the dam location, we also see an increase of the surface that is permanently covered by water."
   ],
   "id": "f7f75cea-3735-4cca-837a-9f2fdd5098a3"
  },
  {
   "cell_type": "code",
   "execution_count": null,
   "metadata": {},
   "outputs": [
    {
     "output_type": "display_data",
     "metadata": {},
     "data": {}
    }
   ],
   "source": [
    "plot(resources$gsw_time_series[[18]], col = colors, type = \"classes\", levels = levels, fun = p_aoi, legend = \"bottomright\")"
   ],
   "id": "cell-fig-gsw-timeseries-2017"
  },
  {
   "cell_type": "markdown",
   "metadata": {},
   "source": [
    "We thus obtained a first indication that the newly flooded areas are quite significant and that they occurred after the construction of the Jiaru dam. However, until now we have no information of the land cover of these flooded areas with regard to if forest cover was lost due to the flooding. For this, we will visualize GFW treecover and lossyear layers.\n",
    "\n",
    "### GFW Tree Cover 2000\n",
    "\n",
    "<a href=\"#fig-gfw-treecover\" class=\"quarto-xref\">Figure 6</a> displays the tree cover layer from GFW. It indicates the percentage of canopy coverage per pixel for the year 2000. We see that to the North of the river the canopy cover is really dense (~100%) while we see parts with lower canopy cover on the South of the river banks. There, we can also see lower densities in proximity to linear structures that indicates potential human-driven deforestation along roads that already occurred prior to the year 2000."
   ],
   "id": "cfeb7a06-bc3b-41f4-ab1c-f02171cf045a"
  },
  {
   "cell_type": "code",
   "execution_count": null,
   "metadata": {},
   "outputs": [
    {
     "output_type": "display_data",
     "metadata": {},
     "data": {}
    }
   ],
   "source": [
    "plot(resources$gfw_treecover + 2000, col = rev(map.pal(\"grass\")), fun = p_aoi)"
   ],
   "id": "cell-fig-gfw-treecover"
  },
  {
   "cell_type": "markdown",
   "metadata": {},
   "source": [
    "<a href=\"#fig-gfw-lossyear\" class=\"quarto-xref\">Figure 7</a> shows the year of forest cover loss detected by GFW between 2000 and 2023. Orang-ish to yellow colors represent loss occurrences before 2010 while green to blue-ish colors indicated losses towards 2023. Here, again, we see distinct patterns between the North and the South of the river bank. To the North, we observe a domination of tree cover loss between 2010 and 2015 in more naturally shaped areas - an indication of tree cover loss associated with flooding the lowest areas as a result of raising water levels. To the South, we observe both, tree cover losses before and after 2010 mostly occurring in rectangular shapes, again an indication of human-driven deforestation in that areas."
   ],
   "id": "ac120920-5ce7-4b49-8298-f83fc4c42d8f"
  },
  {
   "cell_type": "code",
   "execution_count": null,
   "metadata": {},
   "outputs": [
    {
     "output_type": "display_data",
     "metadata": {},
     "data": {}
    }
   ],
   "source": [
    "plot(resources$gfw_lossyear, col = rev(map.pal(\"haxby\")), fun = p_aoi)"
   ],
   "id": "cell-fig-gfw-lossyear"
  },
  {
   "cell_type": "markdown",
   "metadata": {},
   "source": [
    "## Calculating indicators\n",
    "\n",
    "An indicator requires at least a single resource to be available via `get_resources()`. You can search through the available indicators and learn about their required arguments e.g. in the [online documentation](https://mapme-initiative.github.io/mapme.biodiversity/reference/index.html#indicators).\n",
    "\n",
    "Below, we calculate several indicators that we will base our further analysis on. Note, that we wrap our code in `plan()` to enable parallel processing as well as `with_progress()` to enable a progress bar (only visible in an interactive R session). When calling `calc_indicators()`, we split up our original portfolio in two parts: one for buffers of the upstream river courses and the other one for the 50 km circular buffers around the dam locations. We calculate a distinct set of indicators for each: a timeseries of forest cover and surface water as well as the surface water transition classes for the upstream rivers courses and the population count only for the dam buffers."
   ],
   "id": "b6f3ba82-b1f6-49d3-b4a8-6e5a64c6ad4f"
  },
  {
   "cell_type": "code",
   "execution_count": null,
   "metadata": {},
   "outputs": [],
   "source": [
    "plan(multicore, workers = 4) # uses 4 workers for parallel processing\n",
    "# plan(multisession, workers = 4) # use this if working in RStudio\n",
    "with_progress({ # enables progress bar\n",
    "    upstreams <- calc_indicators(\n",
    "        filter(portfolio, type == \"upstream\"),\n",
    "        calc_treecover_area(years = 2000:2019, min_size = 1, min_cover = 10),\n",
    "        calc_gsw_time_series(),\n",
    "        calc_gsw_transitions()\n",
    "    )\n",
    "    buffers <- calc_indicators(\n",
    "        filter(portfolio, type == \"buffer\"),\n",
    "        calc_population_count(stats = \"sum\")\n",
    "    )\n",
    "})\n",
    "plan(sequential) # closes idle processes"
   ],
   "id": "dbc12700-f817-4f05-a240-15210e35c634"
  },
  {
   "cell_type": "markdown",
   "metadata": {},
   "source": [
    "After the successful indicator calculation, we rowwise-bind together the resulting objects. If we inspect the portfolio object, we can observe that indicators are added as nested-list columns to our portfolio. In case an indicator is not present for a certain asset `bind_rows()` will fill in a `NULL` value. We can see, that the objects within the indicator columns are `tibble`s. When inspecting the first one for the `treecover_area` indicator, we see that it has the column names `datetime`, `variable`, `unit` and `value`. This data model is used for every indicator in `mapme.biodiversity` and allows an easy integration into further analysis workflows as we will see below.\n",
    "\n",
    "### Serializing portfolios to disk"
   ],
   "id": "c04c0e22-4965-4d5d-b0a7-1f9e07538a6b"
  },
  {
   "cell_type": "code",
   "execution_count": null,
   "metadata": {},
   "outputs": [],
   "source": [
    "inds_portfolio <- bind_rows(upstreams, buffers)\n",
    "inds_portfolio\n",
    "#> Simple feature collection with 4 features and 8 fields\n",
    "#> Geometry type: POLYGON\n",
    "#> Dimension:     XY\n",
    "#> Bounding box:  xmin: -65.10765 ymin: -9.72112 xmax: -63.4921 ymax: -8.348096\n",
    "#> Geodetic CRS:  WGS 84 (CRS84)\n",
    "#> # A tibble: 4 × 9\n",
    "#>   name          start_flooding type     assetid treecover_area    gsw_timeseries\n",
    "#> * <chr>                  <dbl> <chr>      <int> <list>            <list>        \n",
    "#> 1 Santo Antonio           2011 upstream       3 <tibble [20 × 4]> <tibble>      \n",
    "#> 2 Jirau                   2013 upstream       4 <tibble [20 × 4]> <tibble>      \n",
    "#> 3 Santo Antonio           2011 buffer         1 <NULL>            <NULL>        \n",
    "#> 4 Jirau                   2013 buffer         2 <NULL>            <NULL>        \n",
    "#> # ℹ 3 more variables: gsw_transitions <list>, geometry <POLYGON [°]>,\n",
    "#> #   population_count <list>\n",
    "head(inds_portfolio$treecover_area[[1]])\n",
    "#> # A tibble: 6 × 4\n",
    "#>   datetime            variable  unit   value\n",
    "#>   <dttm>              <chr>     <chr>  <dbl>\n",
    "#> 1 2000-01-01 00:00:00 treecover ha    50695.\n",
    "#> 2 2001-01-01 00:00:00 treecover ha    50229.\n",
    "#> 3 2002-01-01 00:00:00 treecover ha    49511.\n",
    "#> 4 2003-01-01 00:00:00 treecover ha    48674.\n",
    "#> 5 2004-01-01 00:00:00 treecover ha    48013.\n",
    "#> 6 2005-01-01 00:00:00 treecover ha    46485."
   ],
   "id": "e17a05d9-5004-4834-b7a8-cffdaa3031b7"
  },
  {
   "cell_type": "markdown",
   "metadata": {},
   "source": [
    "We can serialize a portfolio object to a GeoPackage (GPKG) on disk by using the `write_portfolio()` utility."
   ],
   "id": "0e4bad9d-ec8a-491d-837e-26ef1fdb5502"
  },
  {
   "cell_type": "code",
   "execution_count": null,
   "metadata": {},
   "outputs": [],
   "source": [
    "dsn <- \"./output/portfolio.gpkg\"\n",
    "if (file.exists(dsn)) file.remove(dsn)\n",
    "#> [1] TRUE\n",
    "write_portfolio(inds_portfolio, dsn = dsn)"
   ],
   "id": "bf0d798d-fea4-4c95-bb8d-d8e985fffb90"
  },
  {
   "cell_type": "markdown",
   "metadata": {},
   "source": [
    "This will create a GPKG with two layers called `metadata` and `indicators`. The `metadata` table will contain all flat attributes (e.g. non-nested list columns) plus the geo-information while the `indicator` table contain all indicators with our known indicator column names in a long format. It is the variable `assetid` identifying the corresponding indicator data for each asset."
   ],
   "id": "c4690c8b-4747-4054-92c4-f43dbfa1804e"
  },
  {
   "cell_type": "code",
   "execution_count": null,
   "metadata": {},
   "outputs": [],
   "source": [
    "st_layers(dsn)\n",
    "#> Driver: GPKG \n",
    "#> Available layers:\n",
    "#>   layer_name geometry_type features fields       crs_name\n",
    "#> 1   metadata       Polygon        4      4 WGS 84 (CRS84)\n",
    "#> 2 indicators            NA      222      6           <NA>\n",
    "read_sf(dsn, layer = \"metadata\")\n",
    "#> Simple feature collection with 4 features and 4 fields\n",
    "#> Geometry type: POLYGON\n",
    "#> Dimension:     XY\n",
    "#> Bounding box:  xmin: -65.10765 ymin: -9.72112 xmax: -63.4921 ymax: -8.348096\n",
    "#> Geodetic CRS:  WGS 84 (CRS84)\n",
    "#> # A tibble: 4 × 5\n",
    "#>   name          start_flooding type     assetid                             geom\n",
    "#>   <chr>                  <dbl> <chr>      <int>                    <POLYGON [°]>\n",
    "#> 1 Santo Antonio           2011 upstream       3 ((-64.31941 -9.13046, -64.31645…\n",
    "#> 2 Jirau                   2013 upstream       4 ((-64.9534 -9.643272, -64.95044…\n",
    "#> 3 Santo Antonio           2011 buffer         1 ((-63.58061 -8.538803, -63.5806…\n",
    "#> 4 Jirau                   2013 buffer         2 ((-64.90595 -9.637122, -64.9059…\n",
    "read_sf(dsn, layer = \"indicators\")\n",
    "#> # A tibble: 222 × 6\n",
    "#>    assetid indicator      datetime            variable  unit   value\n",
    "#>      <int> <chr>          <dttm>              <chr>     <chr>  <dbl>\n",
    "#>  1       3 treecover_area 2000-01-01 00:00:00 treecover ha    50695.\n",
    "#>  2       3 treecover_area 2001-01-01 00:00:00 treecover ha    50229.\n",
    "#>  3       3 treecover_area 2002-01-01 00:00:00 treecover ha    49511.\n",
    "#>  4       3 treecover_area 2003-01-01 00:00:00 treecover ha    48674.\n",
    "#>  5       3 treecover_area 2004-01-01 00:00:00 treecover ha    48013.\n",
    "#>  6       3 treecover_area 2005-01-01 00:00:00 treecover ha    46485.\n",
    "#>  7       3 treecover_area 2006-01-01 00:00:00 treecover ha    45933.\n",
    "#>  8       3 treecover_area 2007-01-01 00:00:00 treecover ha    45379.\n",
    "#>  9       3 treecover_area 2008-01-01 00:00:00 treecover ha    45234.\n",
    "#> 10       3 treecover_area 2009-01-01 00:00:00 treecover ha    44609.\n",
    "#> # ℹ 212 more rows"
   ],
   "id": "19f70d4a-5d3a-4b84-9dd8-dc6db81f02e1"
  },
  {
   "cell_type": "markdown",
   "metadata": {},
   "source": [
    "While you could join those tables manually, the `read_portfolio()` utility automatically takes care of re-constructing the original portfolio object from the output GPGK:"
   ],
   "id": "7cf656cc-730c-401e-b14d-1b5b0360287d"
  },
  {
   "cell_type": "code",
   "execution_count": null,
   "metadata": {},
   "outputs": [],
   "source": [
    "(inds_portfolio <- read_portfolio(dsn))\n",
    "#> Simple feature collection with 4 features and 8 fields\n",
    "#> Geometry type: POLYGON\n",
    "#> Dimension:     XY\n",
    "#> Bounding box:  xmin: -65.10765 ymin: -9.72112 xmax: -63.4921 ymax: -8.348096\n",
    "#> Geodetic CRS:  WGS 84 (CRS84)\n",
    "#> # A tibble: 4 × 9\n",
    "#>   name          start_flooding type     assetid treecover_area    gsw_timeseries\n",
    "#>   <chr>                  <dbl> <chr>      <int> <list>            <list>        \n",
    "#> 1 Santo Antonio           2011 upstream       3 <tibble [20 × 4]> <tibble>      \n",
    "#> 2 Jirau                   2013 upstream       4 <tibble [20 × 4]> <tibble>      \n",
    "#> 3 Santo Antonio           2011 buffer         1 <NULL>            <NULL>        \n",
    "#> 4 Jirau                   2013 buffer         2 <NULL>            <NULL>        \n",
    "#> # ℹ 3 more variables: gsw_transitions <list>, population_count <list>,\n",
    "#> #   geom <POLYGON [°]>"
   ],
   "id": "06eb959b-82c4-4af1-a50a-43ea1c8812ba"
  },
  {
   "cell_type": "markdown",
   "metadata": {},
   "source": [
    "> **Sparse indicator table**\n",
    ">\n",
    "> The indicator table represents the available indicator data as a sparsely. That means that you will only find entries there for an asset-indicator combination which has an actual value. That means that you must take care of filling up missing asset-indicator combinations with `NULL` if you decide to manually join with the `metadata` table.\n",
    "\n",
    "### Downstream analysis of indicator data\n",
    "\n",
    "Most indicators in `mapme.biodiversity` represent some sort of zonal statistic, meaning that the spatial dimension of the input data will be aggregated to the extent of the assets in a portfolio. We can, for example, analyze these indicator by visualizing them using `ggplot2`.\n",
    "\n",
    "<a href=\"#fig-gg-gsw-transitions\" class=\"quarto-xref\">Figure 8</a> shows the areal distribution of GSW transition classes upstream of the two dams of interest. We see an substantial increase of seasonal surface water in Jirau of \\> 10,000 ha, but also increases in the permanent surface water class which sum up to 6,500 ha in total. The ephemeral seasonal class also covers a substantial share of areas. It represents surfaces which transitioned from no water to seasonal water sometime in the observation period, but returned to no water cover before the end of that period."
   ],
   "id": "7bec06bb-92e3-49c8-aac3-ae34484dc075"
  },
  {
   "cell_type": "code",
   "execution_count": null,
   "metadata": {},
   "outputs": [
    {
     "output_type": "display_data",
     "metadata": {},
     "data": {}
    }
   ],
   "source": [
    "upstreams$gsw_transitions[[1]]\n",
    "#> # A tibble: 10 × 4\n",
    "#>    datetime            variable                  unit  value\n",
    "#>    <dttm>              <chr>                     <chr> <dbl>\n",
    "#>  1 2021-01-01 00:00:00 gsw_permanent             ha    8644.\n",
    "#>  2 2021-01-01 00:00:00 gsw_new_permanent         ha    4052.\n",
    "#>  3 2021-01-01 00:00:00 gsw_lost_permanent        ha     189.\n",
    "#>  4 2021-01-01 00:00:00 gsw_seasonal              ha     317.\n",
    "#>  5 2021-01-01 00:00:00 gsw_new_seasonal          ha    2296.\n",
    "#>  6 2021-01-01 00:00:00 gsw_lost_seasonal         ha     139.\n",
    "#>  7 2021-01-01 00:00:00 gsw_seasonal_to_permanent ha     376.\n",
    "#>  8 2021-01-01 00:00:00 gsw_permanent_to_seasonal ha     107.\n",
    "#>  9 2021-01-01 00:00:00 gsw_ephemeral_permanent   ha     595.\n",
    "#> 10 2021-01-01 00:00:00 gsw_ephemeral_seasonal    ha    2103.\n",
    "\n",
    "my_theme <- function() {\n",
    "    theme_bw() +\n",
    "        theme(\n",
    "        legend.position = \"inside\",\n",
    "        legend.position.inside = c(.15, .85),\n",
    "        axis.text = element_text(size = 12, ),\n",
    "        axis.title = element_text(size = 14),\n",
    "        axis.text.x = element_text(angle = 45, vjust = 1, hjust = 1)\n",
    "    )\n",
    "}\n",
    "\n",
    "colors <- c(\"#032733\", \"#f18e26\")\n",
    "\n",
    "upstreams |>\n",
    "    portfolio_long(indicators = \"gsw_transitions\", drop_geoms = TRUE) |>\n",
    "    mutate(variable = forcats::fct_reorder(variable, value)) |>\n",
    "    ggplot(aes(x = variable, y = value, fill = name)) +\n",
    "    geom_bar(stat = \"identity\", position = \"dodge\") +\n",
    "    scale_fill_manual(values = colors) +\n",
    "    scale_y_continuous(breaks = seq(0, 16000, 2000), expand = c(0,0)) +\n",
    "    labs(x = \"Transition category\", y = \"Area [ha]\", fill = \"Location\") +\n",
    "    my_theme()"
   ],
   "id": "cell-fig-gg-gsw-transitions"
  },
  {
   "cell_type": "markdown",
   "metadata": {},
   "source": [
    "From the GSW transition indicator, we are still not obtaining any information on the timing of these changes. For this, we are going to visualize the two most important classes, namely permanent and seasonal water surfaces, over time. <a href=\"#fig-gg-gsw-ts\" class=\"quarto-xref\">Figure 9</a> shows that prior to 2011, the surface which was permanently covered by water was relatively stable for both upstream river courses. That changes for the Santo Antonio dam abruptly in 2012, where we observe a steep increase from ~9,000 ha to 13,500 ha of areas permanently covered in water. For the Jirau, the increase is delayed by a year and also with lower magnitude with an increase of about 3,000 ha. This pattern is, however, reversed with the seasonal water class were we see an absolute increase of about 10,000 ha for Jiaru while only about 2,000 ha for Santo Antonio."
   ],
   "id": "24c47e07-3a91-4b77-b859-61c8d235825f"
  },
  {
   "cell_type": "code",
   "execution_count": null,
   "metadata": {},
   "outputs": [
    {
     "output_type": "display_data",
     "metadata": {},
     "data": {}
    }
   ],
   "source": [
    "upstreams$gsw_timeseries[[1]]\n",
    "#> # A tibble: 80 × 4\n",
    "#>    datetime            variable        unit   value\n",
    "#>    <dttm>              <chr>           <chr>  <dbl>\n",
    "#>  1 2000-01-01 00:00:00 no_observations ha    51647.\n",
    "#>  2 2001-01-01 00:00:00 no_observations ha    51649.\n",
    "#>  3 2002-01-01 00:00:00 no_observations ha    51648.\n",
    "#>  4 2003-01-01 00:00:00 no_observations ha    51655.\n",
    "#>  5 2004-01-01 00:00:00 no_observations ha    51648.\n",
    "#>  6 2005-01-01 00:00:00 no_observations ha    51650.\n",
    "#>  7 2006-01-01 00:00:00 no_observations ha    51649.\n",
    "#>  8 2007-01-01 00:00:00 no_observations ha    51648.\n",
    "#>  9 2008-01-01 00:00:00 no_observations ha    51648.\n",
    "#> 10 2009-01-01 00:00:00 no_observations ha    51649.\n",
    "#> # ℹ 70 more rows\n",
    "\n",
    "upstreams |>\n",
    "    portfolio_long(indicators = \"gsw_timeseries\", drop_geoms = TRUE) |>\n",
    "    filter(!variable %in% c(\"no_observations\", \"not_water\")) |>\n",
    "    ggplot(aes(x = datetime, y = value, color = name, linetype = variable)) +\n",
    "    geom_line(lwd = 1) +\n",
    "    scale_linetype_manual(values = c(1, 4)) +\n",
    "    scale_color_manual(values = colors) +\n",
    "    scale_x_datetime(date_labels = \"%Y\", date_breaks = \"2 years\", date_minor_breaks = \"1 years\")  +\n",
    "    scale_y_continuous(breaks = seq(0, 14000, 2000)) +\n",
    "    labs(x = \"Time\", y = \"Area [ha]\", color = \"Location\", linetype = \"Category\") +\n",
    "    my_theme() "
   ],
   "id": "cell-fig-gg-gsw-ts"
  },
  {
   "cell_type": "markdown",
   "metadata": {},
   "source": [
    "We now finally analyze if the observed forest cover loss corresponds to those changes in surface water. <a href=\"#fig-gg-treecover-loss\" class=\"quarto-xref\">Figure 10</a> shows cumulative forest losses for both upstream river courses between 2000 and 2019. We see a steep increase in forest losses between 2009 and 2012 for the Santo Antonio river course which closely follows the pattern of the permanent water class in <a href=\"#fig-gg-gsw-ts\" class=\"quarto-xref\">Figure 9</a> leveling out towards the end of the observation period. During this time, we observe tree cover losses of about 8,000 ha.\n",
    "\n",
    "For the Jirau river course, the tree cover loss closely mirrors the dynamic of the seasonal water surface class with a steep increase between 2009 and 2017. During the same time, forest cover losses amount to ~18,000 ha."
   ],
   "id": "a2d33d36-5b05-411f-a173-582d9a744a08"
  },
  {
   "cell_type": "code",
   "execution_count": null,
   "metadata": {},
   "outputs": [
    {
     "output_type": "display_data",
     "metadata": {},
     "data": {}
    }
   ],
   "source": [
    "upstreams$treecover_area[[1]]\n",
    "#> # A tibble: 20 × 4\n",
    "#>    datetime            variable  unit   value\n",
    "#>    <dttm>              <chr>     <chr>  <dbl>\n",
    "#>  1 2000-01-01 00:00:00 treecover ha    50695.\n",
    "#>  2 2001-01-01 00:00:00 treecover ha    50229.\n",
    "#>  3 2002-01-01 00:00:00 treecover ha    49511.\n",
    "#>  4 2003-01-01 00:00:00 treecover ha    48674.\n",
    "#>  5 2004-01-01 00:00:00 treecover ha    48013.\n",
    "#>  6 2005-01-01 00:00:00 treecover ha    46485.\n",
    "#>  7 2006-01-01 00:00:00 treecover ha    45933.\n",
    "#>  8 2007-01-01 00:00:00 treecover ha    45379.\n",
    "#>  9 2008-01-01 00:00:00 treecover ha    45234.\n",
    "#> 10 2009-01-01 00:00:00 treecover ha    44609.\n",
    "#> 11 2010-01-01 00:00:00 treecover ha    40959.\n",
    "#> 12 2011-01-01 00:00:00 treecover ha    38192.\n",
    "#> 13 2012-01-01 00:00:00 treecover ha    36774.\n",
    "#> 14 2013-01-01 00:00:00 treecover ha    36432.\n",
    "#> 15 2014-01-01 00:00:00 treecover ha    35908.\n",
    "#> 16 2015-01-01 00:00:00 treecover ha    35751.\n",
    "#> 17 2016-01-01 00:00:00 treecover ha    35506.\n",
    "#> 18 2017-01-01 00:00:00 treecover ha    34940.\n",
    "#> 19 2018-01-01 00:00:00 treecover ha    34818.\n",
    "#> 20 2019-01-01 00:00:00 treecover ha    34601.\n",
    "\n",
    "upstreams |>\n",
    "    portfolio_long(indicators = \"treecover_area\", drop_geoms = TRUE) |>\n",
    "    mutate(loss = cumsum(abs(c(0, diff(value)))), .by = name) |>\n",
    "    ggplot(aes(x = datetime, y = loss, color = name)) +\n",
    "    geom_line(lwd = 1) +\n",
    "    scale_color_manual(values = colors) +\n",
    "    scale_x_datetime(date_labels = \"%Y\", date_breaks = \"2 years\", date_minor_breaks = \"1 years\")  +\n",
    "    scale_y_continuous(breaks = seq(0, 24000, 4000), expand = c(0,0)) +\n",
    "    labs(x = \"Time\", y = \"Cumulative tree cover loss [ha]\", color = \"Location\") +\n",
    "    my_theme() "
   ],
   "id": "cell-fig-gg-treecover-loss"
  },
  {
   "cell_type": "markdown",
   "metadata": {},
   "source": [
    "With this we have some solid indication that treecover loss in both AOIs between 2007 to 2017 was mainly dominated by losses associated with flooding previously forested areas. However, as can be seen from the spatial visualization of the treecover loss year (<a href=\"#fig-gfw-lossyear\" class=\"quarto-xref\">Figure 7</a>) there might also be other processes at work here contributing to the deforestation rates. An option to improve the presented methodology could be to spatially match the yearly surface water change maps with the treecover loss layer to construct a new indicator that calculates the area of treecover loss due to flooding.\n",
    "\n",
    "Lastly, we will take a look at the number of people living in a 50 km vicinity of the dams locations. For this, we will use another utility, called `portfolio_wide()`, which unpacks nested indicator columns to create a wide view of our portfolio data. Note, that the column names are quite predictable, though not perfectly legible.\n",
    "\n",
    "We see that WorldPop estimates about 500,000 people to live in the buffer zone of the Santo Antonio dam while only about 20,000 in the vicinity of the Jiaru dam. Looking up the number of inhabitants in [Porto Velho](https://datacommons.org/place/wikidataId/Q172512?utm_medium=explore&mprop=count&popt=Person&hl=en#) shows a pretty good level of agreement for this estimate."
   ],
   "id": "32815424-3362-403b-94f4-3fc10778897e"
  },
  {
   "cell_type": "code",
   "execution_count": null,
   "metadata": {},
   "outputs": [],
   "source": [
    "buffers |>\n",
    "  select(assetid, name, type, population_count) |>\n",
    "  portfolio_wide()\n",
    "#> Simple feature collection with 2 features and 4 fields\n",
    "#> Geometry type: POLYGON\n",
    "#> Dimension:     XY\n",
    "#> Bounding box:  xmin: -65.10765 ymin: -9.72112 xmax: -63.4921 ymax: -8.348096\n",
    "#> Geodetic CRS:  WGS 84 (CRS84)\n",
    "#> # A tibble: 2 × 5\n",
    "#>   assetid name          type   population_count_2019…¹                  geometry\n",
    "#>     <dbl> <chr>         <chr>                    <dbl>             <POLYGON [°]>\n",
    "#> 1       1 Santo Antonio buffer                 499234. ((-63.58061 -8.538803, -…\n",
    "#> 2       2 Jirau         buffer                  20036. ((-64.90595 -9.637122, -…\n",
    "#> # ℹ abbreviated name: ¹​`population_count_2019-01-01_population_sum_count`"
   ],
   "id": "1f7d9b5e-5e4b-47bd-a9cd-003da994a2ee"
  },
  {
   "cell_type": "markdown",
   "metadata": {},
   "source": [
    "## References\n",
    "\n",
    "Finer, M., and T. Olexy. 2015. “New Dams on the Madeira River (Brazil) Cause Forest Flooding.”\n",
    "\n",
    "UNEP-WCMC. 2019. “User Manual for the World Database on Protected Areas and World Database on Other Effective Area- Based Conservation Measures: 1.6.”"
   ],
   "id": "672e2b99-4806-4f75-bec9-6e7dbe966a50"
  }
 ],
 "nbformat": 4,
 "nbformat_minor": 5,
 "metadata": {}
}
